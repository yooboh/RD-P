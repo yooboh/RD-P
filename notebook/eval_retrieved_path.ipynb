{
 "cells": [
  {
   "cell_type": "code",
   "execution_count": null,
   "metadata": {},
   "outputs": [],
   "source": [
    "import json\n",
    "\n",
    "test_retrieval_path = \"../data/results/webqsp/K=1.json\"\n",
    "\n",
    "with open(test_retrieval_path, \"r\") as f:\n",
    "    test_retrieval = [json.loads(line) for line in f]\n",
    "\n",
    "hit = 0\n",
    "not_hit = 0\n",
    "total_hit = 0\n",
    "distinct_tails_count = 0\n",
    "tails_count = 0\n",
    "for sample in test_retrieval:\n",
    "    answers = [ans[\"kb_id\"] for ans in sample[\"answers\"]]\n",
    "    answers = set(answers)\n",
    "    if not answers:\n",
    "        continue\n",
    "\n",
    "    flag = False\n",
    "    total_tails = set()\n",
    "\n",
    "    for path_with_score in sample[\"path_with_score\"]:\n",
    "        tails = path_with_score[\"tails\"]\n",
    "        tails_count += len(tails)\n",
    "        total_tails.update(tails)\n",
    "\n",
    "        if any([tail in answers for tail in tails]):\n",
    "            total_hit += 1\n",
    "            if not flag:\n",
    "                hit += 1\n",
    "                flag = True\n",
    "\n",
    "    if not flag:\n",
    "        not_hit += 1\n",
    "\n",
    "    distinct_tails_count += len(total_tails)\n",
    "\n",
    "print(f\"{hit} / {hit + not_hit} = {hit / (hit + not_hit)}\")\n",
    "print(f\"average hits: {total_hit / (hit + not_hit)}\")\n",
    "print(f\"average entities: {tails_count / (hit + not_hit)}\")\n",
    "print(f\"average distinct entities: {distinct_tails_count / (hit + not_hit)}\")"
   ]
  }
 ],
 "metadata": {
  "kernelspec": {
   "display_name": "base",
   "language": "python",
   "name": "python3"
  },
  "language_info": {
   "codemirror_mode": {
    "name": "ipython",
    "version": 3
   },
   "file_extension": ".py",
   "mimetype": "text/x-python",
   "name": "python",
   "nbconvert_exporter": "python",
   "pygments_lexer": "ipython3",
   "version": "3.8.10"
  }
 },
 "nbformat": 4,
 "nbformat_minor": 2
}
