{
 "cells": [
  {
   "cell_type": "code",
   "execution_count": null,
   "metadata": {},
   "outputs": [],
   "source": [
    "import json\n",
    "import os\n",
    "\n",
    "from SPARQLWrapper import JSON, SPARQLWrapper\n",
    "\n",
    "data_dir = \"../data/datasets/ComplexWebQuestions\"\n",
    "input_path = os.path.join(data_dir, \"ComplexWebQuestions_test.json\")\n",
    "output_path = os.path.join(data_dir, \"ComplexWebQuestions_test_wans.json\")\n",
    "\n",
    "if os.path.exists(output_path):\n",
    "    raise SystemExit(\"Output file already exists.\")\n",
    "\n",
    "sparql = SPARQLWrapper(\"http://localhost:3001/sparql\")\n",
    "sparql.setReturnFormat(JSON)\n",
    "\n",
    "with open(input_path) as f:\n",
    "    dataset = json.load(f)\n",
    "\n",
    "with open(output_path, \"w\") as f:\n",
    "    for json_obj in dataset:\n",
    "        id = json_obj[\"ID\"]\n",
    "        question = json_obj[\"question\"]\n",
    "\n",
    "        answer_list = []\n",
    "\n",
    "        query = json_obj[\"sparql\"]\n",
    "        sparql.setQuery(query)\n",
    "        results = sparql.query().convert()\n",
    "        for result in results[\"results\"][\"bindings\"]:\n",
    "            ans_id = result[\"x\"][\"value\"].replace(\"http://rdf.freebase.com/ns/\", \"\")\n",
    "            query = f\"\"\"\n",
    "                    PREFIX rdf: <http://www.w3.org/1999/02/22-rdf-syntax-ns#>\n",
    "                    PREFIX rdfs: <http://www.w3.org/2000/01/rdf-schema#>\n",
    "                    PREFIX : <http://rdf.freebase.com/ns/>\n",
    "                    SELECT distinct ?name WHERE {{\n",
    "                        :{ans_id} :type.object.name ?name .\n",
    "                        FILTER(LANGMATCHES(LANG(?name), 'en'))\n",
    "                    }}\n",
    "            \"\"\"\n",
    "\n",
    "            sparql.setQuery(query)\n",
    "            results = sparql.query().convert()\n",
    "            if results[\"results\"][\"bindings\"]:\n",
    "                ans_name = results[\"results\"][\"bindings\"][0][\"name\"][\"value\"]\n",
    "                answer_list.append({\"kb_id\": ans_id, \"text\": ans_name})\n",
    "\n",
    "        data = {\n",
    "            \"ID\": id,\n",
    "            \"question\": question,\n",
    "            \"sparql\": json_obj[\"sparql\"],\n",
    "            \"answers\": answer_list,\n",
    "        }\n",
    "        f.write(json.dumps(data) + \"\\n\")"
   ]
  }
 ],
 "metadata": {
  "kernelspec": {
   "display_name": "kbqa",
   "language": "python",
   "name": "python3"
  },
  "language_info": {
   "codemirror_mode": {
    "name": "ipython",
    "version": 3
   },
   "file_extension": ".py",
   "mimetype": "text/x-python",
   "name": "python",
   "nbconvert_exporter": "python",
   "pygments_lexer": "ipython3",
   "version": "3.8.19"
  }
 },
 "nbformat": 4,
 "nbformat_minor": 2
}
